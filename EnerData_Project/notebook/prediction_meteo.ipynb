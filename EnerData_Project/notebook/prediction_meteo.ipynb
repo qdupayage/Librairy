{
 "cells": [
  {
   "cell_type": "markdown",
   "id": "0e681648",
   "metadata": {},
   "source": [
    "# Prédiction de précipitation à partir de données météo\n",
    "Ce notebook illustre le prétraitement, la modélisation et l'évaluation de modèles ML sur un dataset météo synthétique."
   ]
  },
  {
   "cell_type": "code",
   "execution_count": null,
   "id": "7a23bb77",
   "metadata": {},
   "outputs": [],
   "source": [
    "# 📦 Importations\n",
    "import pandas as pd\n",
    "from src import preprocessing, models, evaluation\n",
    "from utils import visualisation"
   ]
  },
  {
   "cell_type": "code",
   "execution_count": null,
   "id": "f26b9af2",
   "metadata": {},
   "outputs": [],
   "source": [
    "# 📥 Chargement des données\n",
    "df = preprocessing.load_data('data/meteo.csv')\n",
    "df.head()"
   ]
  },
  {
   "cell_type": "code",
   "execution_count": null,
   "id": "bbf28f4a",
   "metadata": {},
   "outputs": [],
   "source": [
    "# 📊 Visualisation des corrélations\n",
    "visualisation.plot_correlation(df)"
   ]
  },
  {
   "cell_type": "code",
   "execution_count": null,
   "id": "8bdff321",
   "metadata": {},
   "outputs": [],
   "source": [
    "# ⚙️ Prétraitement des données\n",
    "X_train, X_test, y_train, y_test = preprocessing.preprocess_data(df)"
   ]
  },
  {
   "cell_type": "code",
   "execution_count": null,
   "id": "8149f7c2",
   "metadata": {},
   "outputs": [],
   "source": [
    "# 🤖 Chargement des modèles\n",
    "all_models = models.get_models()\n",
    "for name, model in all_models.items():\n",
    "    model.fit(X_train, y_train)\n",
    "    print(f\"\\n🔍 Résultats pour {name}:\")\n",
    "    evaluation.evaluate_model(model, X_test, y_test)"
   ]
  }
 ],
 "metadata": {},
 "nbformat": 4,
 "nbformat_minor": 5
}
